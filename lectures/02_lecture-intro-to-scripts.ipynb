{
 "cells": [
  {
   "cell_type": "markdown",
   "metadata": {
    "slideshow": {
     "slide_type": "slide"
    }
   },
   "source": [
    "# DSCI 522\n",
    "\n",
    "\n",
    "## Lecture 2 - Scaling up: read-eval-print-loop (REPL) processes versus non-interactive scripts\n",
    "\n",
    "\n",
    "### 2020-01-16"
   ]
  },
  {
   "cell_type": "markdown",
   "metadata": {
    "slideshow": {
     "slide_type": "slide"
    }
   },
   "source": [
    "# Learning Objectives"
   ]
  },
  {
   "cell_type": "markdown",
   "metadata": {
    "slideshow": {
     "slide_type": "fragment"
    }
   },
   "source": [
    "## By the end of the lecture, students should be able to:\n",
    "\n",
    "- Explain when it is optimal to work in a read-eval-print-loop (REPL) framework and when it is optimal to shift to using non-interactive scripts\n",
    "- Be able to create simple scripts in Python and R that can take input and be executed from the command line"
   ]
  },
  {
   "cell_type": "markdown",
   "metadata": {
    "slideshow": {
     "slide_type": "slide"
    }
   },
   "source": [
    "## Read-eval-print-loop (REPL) framework (*i.e.,* interactive mode) versus Scripts\n",
    "\n",
    "- Up until now, we have primarily been using R and Python in an Read-eval-print-loop (REPL) framework (*i.e.,* interactive mode)\n",
    "- Read-eval-print-loop (REPL) framework (*i.e.,* interactive mode) is when we run our code in the console in R/Python, or in cells/chunks in the RStudio/Juptyer notebooks\n",
    "- Python in an Read-eval-print-loop (REPL) framework (*i.e.,* interactive mode) is very useful for:\n",
    "    - solving small problems\n",
    "    - developing code that will be knit to an analytic report\n",
    "    - developing code that will be run as a script (i.e., in \"batch\" mode)"
   ]
  },
  {
   "cell_type": "markdown",
   "metadata": {
    "slideshow": {
     "slide_type": "slide"
    }
   },
   "source": [
    "## What is a script?\n",
    "\n",
    "An R/Python script is simply a plain text file containing (almost) the same commands that you would enter into R/Python's console or in cells/chunks in the RStudio/Juptyer notebooks. We often run these from top to bottom from the command line/unix shell."
   ]
  },
  {
   "cell_type": "markdown",
   "metadata": {
    "slideshow": {
     "slide_type": "slide"
    }
   },
   "source": [
    "## Why write scripts?\n",
    "\n",
    "- Efficiency!\n",
    "- Automation!\n",
    "- Reusable!\n",
    "- Record of what you have done!"
   ]
  },
  {
   "cell_type": "markdown",
   "metadata": {
    "slideshow": {
     "slide_type": "slide"
    }
   },
   "source": [
    "## Scripts in R"
   ]
  },
  {
   "cell_type": "markdown",
   "metadata": {
    "slideshow": {
     "slide_type": "fragment"
    }
   },
   "source": [
    "Let's start with a small, simple example to demonstrate how we write and run scripts in R (it is very similar in Python and we will get to this later in the lesson).\n",
    "\n",
    "Our script will be called `print_mean_hp.R`, and it will calculate the mean horsepower of the cars from the built-in R data frame `mtcars`. \n",
    "\n",
    "We will develop this script inside RStudio, make sure it works, and then run it from the command line/terminal/Git bash.\n",
    "\n",
    "##### Our first R script:\n",
    "\n",
    "```\n",
    "# author: Tiffany Timbers\n",
    "# date: 2020-01-15\n",
    "#\n",
    "# This script calculates the mean horsepower of the cars from the built-in \n",
    "# R data frame `mtcars`. This script takes no arguments.\n",
    "#\n",
    "# Usage: Rscript print_mean_hp.R\n",
    "\n",
    "mean_hp <- mean(mtcars$hp)\n",
    "print(mean_hp)\n",
    "```\n"
   ]
  },
  {
   "cell_type": "markdown",
   "metadata": {
    "slideshow": {
     "slide_type": "slide"
    }
   },
   "source": [
    "##### Running our first R script\n",
    "\n",
    "To run our R script, we need to open the command line/terminal/Git bash, and either navigate to the directory that houses the script OR point to it when we call it. We will do the former.\n",
    "\n",
    "Then to run the R script, we use the `Rscript` command, followed by the name/path to the file:\n",
    "\n",
    "```\n",
    "Rscript print_mean_hp.R\n",
    "```\n",
    "\n",
    "The output should be:\n",
    "\n",
    "```\n",
    "[1] 146.6875\n",
    "```"
   ]
  },
  {
   "cell_type": "markdown",
   "metadata": {},
   "source": [
    "## A couple notes about scripts\n",
    "\n",
    "- If you want something to be output to the command line/terminal/Git bash, you **should** explicitly ask for it to be print. *This is not an absolute requirement in R, but it is in Python!*\n",
    "- Similar with figures, they need to be saved! You will never see a figure created in a script unless you write it to a file.\n",
    "- From a reproducibility perspective, if we want input from the user, usually we will design the scripts to take command line arguments, and not use keyboard/user prompts.\n"
   ]
  },
  {
   "cell_type": "markdown",
   "metadata": {},
   "source": [
    "## Script structure and organization\n",
    "\n",
    "Although not necessary in R or Python, it is still good practice and advised to organize the code in your script into a main function and other functions. This practice keeps your code readable and organized, this has some additional benefits we will discuss later.\n",
    "\n",
    "##### Example R script organization:\n",
    "```\n",
    "# documentation comments\n",
    "\n",
    "# import libraries/packages\n",
    "\n",
    "# parse/define command line arguments here\n",
    "\n",
    "# define main function\n",
    "main <- function(){\n",
    "    # code for \"guts\" of script goes here\n",
    "}\n",
    "\n",
    "# code for other functions & tests goes here\n",
    "\n",
    "# call main function\n",
    "main()\n",
    "```\n",
    "\n",
    "##### Example Python script organization:\n",
    "```\n",
    "# documentation comments\n",
    "\n",
    "# import libraries/packages\n",
    "\n",
    "# parse/define command line arguments here\n",
    "\n",
    "# define main function\n",
    "def main():\n",
    "    # code for \"guts\" of script goes here\n",
    "\n",
    "# code for other functions & tests goes here\n",
    "\n",
    "# call main function\n",
    "if __name__ == \"__main__\":\n",
    "    main()\n",
    "```\n",
    "\n",
    "*You can see that R and Python scripts should have roughly the same style. There is the difference of `if __name__ == \"__main__\":` in Python scripts, and R does not really have an equivalent. The benefit of some control flow around `main`, as is done in Python, is so that you could import or source the other functions in the script without running the `main` function.* \n",
    "\n",
    "*You can do something like this in R (although I am not sure how commonly it is done - I more often see folks instead typically abstract the other functions into another script and source that, or create an R package):*\n",
    "\n",
    "```\n",
    "if (getOption('run.main', default = FALSE)) {\n",
    "  main()\n",
    "}\n",
    "```\n",
    "\n",
    "*I made a demo and you can find it here: https://github.com/ttimbers/if_name_equals_main*"
   ]
  },
  {
   "cell_type": "markdown",
   "metadata": {},
   "source": [
    "# Scripts in R:"
   ]
  },
  {
   "cell_type": "markdown",
   "metadata": {},
   "source": [
    "Here we write a script called `quick_titanic_fare_se.R` which reads in the [titanic dataset](https://github.ubc.ca/ubc-mds-2016/datasets/raw/master/data/titanic.csv) and calculates the standard error for the fare (ticket price) variable.\n",
    "\n",
    "Our script has two functions, a function we defined to calculate the standard error of the mean (such a function does not exist in R) and a `main` function which runs the \"body\" of our code.\n",
    "\n",
    "```\n",
    "# author: Tiffany Timbers\n",
    "# date: 2020-01-15\n",
    "#\n",
    "# This script calculates the standard error for the fare (ticket price) \n",
    "# from titanic.csv. This script takes no arguments.\n",
    "#\n",
    "# Usage: quick_csv_stat.R\n",
    "\n",
    "library(tidyverse)\n",
    "library(testthat)\n",
    "\n",
    "main <- function(){\n",
    "  \n",
    "  # read in data\n",
    "  data <- read.csv('data/titanic.csv')\n",
    "  \n",
    "  # print out mean of variable of interest\n",
    "  out <- data %>% \n",
    "    select(fare) %>% \n",
    "    pull() %>% \n",
    "    sterror()\n",
    "  print(out)\n",
    "}\n",
    "\n",
    "#' calculate standard error\n",
    "#'\n",
    "#' @param x a vector of numeric values\n",
    "#' @return the standard error of x as a numeric vector of length one\n",
    "#' @examples\n",
    "#' sterror(mtcars$hp)\n",
    "sterror <- function(x) {\n",
    "  sd(x, na.rm = TRUE) / sqrt(length(x))\n",
    "}\n",
    "\n",
    "test_sterror <- function(){\n",
    "  test_that(\"sterror should return 0 if vector values are all the same\", {\n",
    "    expect_equal(sterror(c(1, 1, 1)), 0)\n",
    "  })\n",
    "}\n",
    "\n",
    "test_sterror()\n",
    "\n",
    "main()\n",
    "```"
   ]
  },
  {
   "cell_type": "markdown",
   "metadata": {},
   "source": [
    "## Note on functions and tests in scripts\n",
    "\n",
    "There are different levels of abstraction, that also scale with project complexity and importance. For now, its OK to put our functions and tests inside the scripts we call to \"run\" our analysis. However, as these grow in size and complexity we will want to abstract these to their own `.R` and `.py` files and take advantage of testing software that can automate the running of tests. This can also be paired with version control so that the tests are run everytime code is pushed to GitHub (we call this continuous integration). We will learn more about this later in this and follow-on courses."
   ]
  },
  {
   "cell_type": "markdown",
   "metadata": {},
   "source": [
    "## Using command line arguments in R\n",
    "Let's make our script more flexible, and let us specify when we call the script, what variable we want to calculate the standard error for.\n",
    "\n",
    "To do this, we use the `docopt` R package. This will allow us to collect the text we enter at the command line when we call the script, and make it available to us when we run the script. \n",
    "\n",
    "When we run `docopt` it takes the text we entered at the command line and gives it to us as a named list of the text provided after the script name. The names of the items in the list come from the documentation. Whitespace at the command line is what is used to parse the text into separate items in the vector.\n",
    "\n",
    "```\n",
    "# author: Tiffany Timbers\n",
    "# date: 2020-01-15\n",
    "\n",
    "\"This script calculates the standard error for a specified \n",
    "variable from titanic.csv. This script takes a column name\n",
    "as the variable argument.\n",
    "\n",
    "Usage: quick_csv_stat.R <var>\n",
    "\" -> doc\n",
    "\n",
    "library(tidyverse)\n",
    "library(testthat)\n",
    "library(docopt)\n",
    "\n",
    "opt <- docopt(doc)\n",
    "\n",
    "main <- function(var){\n",
    "  \n",
    "  # read in data\n",
    "  data <- read.csv('data/titanic.csv')\n",
    "  \n",
    "  # print out mean of variable of interest\n",
    "  out <- data %>% \n",
    "    select(!!var) %>% \n",
    "    pull() %>% \n",
    "    sterror()\n",
    "  print(out)\n",
    "}\n",
    "\n",
    "#' calculate standard error\n",
    "#'\n",
    "#' @param x a vector of numeric values\n",
    "#' @return the standard error of x as a numeric vector of length one\n",
    "#' @examples\n",
    "#' sterror(mtcars$hp)\n",
    "sterror <- function(x) {\n",
    "  sd(x, na.rm = TRUE) / sqrt(length(x))\n",
    "}\n",
    "\n",
    "test_sterror <- function(){\n",
    "  test_that(\"sterror should return 0 if vector values are all the same\", {\n",
    "    expect_equal(sterror(c(1, 1, 1)), 0)\n",
    "  })\n",
    "}\n",
    "\n",
    "test_sterror()\n",
    "\n",
    "main(opt$var)\n",
    "```\n",
    "\n",
    "And we would run a script like this from the command line as follows: \n",
    "\n",
    "```\n",
    "Rscript src/quick_csv_stat.R fare\n",
    "```"
   ]
  },
  {
   "cell_type": "markdown",
   "metadata": {},
   "source": [
    "Let's make our script even more flexible, and let us specify that dataset as well (we could then use it more generally on other files, such as the Gapminder `.csv`'s we saw in Block 1).\n",
    "\n",
    "\n",
    "```\n",
    "# author: Tiffany Timbers\n",
    "# date: 2020-01-15\n",
    "\n",
    "\"This script calculates the standard error for a specified \n",
    "variable from titanic.csv. This script takes a file path and a column name\n",
    "as the arguments.\n",
    "\n",
    "Usage: quick_csv_stat.R <file_path> <var>\n",
    "\" -> doc\n",
    "\n",
    "library(tidyverse)\n",
    "library(testthat)\n",
    "library(docopt)\n",
    "\n",
    "opt <- docopt(doc)\n",
    "\n",
    "main <- function(file_path, var){\n",
    "  \n",
    "  # read in data\n",
    "  data <- read.csv(file_path)\n",
    "  \n",
    "  # print out mean of variable of interest\n",
    "  out <- data %>% \n",
    "    select(!!var) %>% \n",
    "    pull() %>% \n",
    "    sterror()\n",
    "  print(out)\n",
    "}\n",
    "\n",
    "#' calculate standard error\n",
    "#'\n",
    "#' @param x a vector of numeric values\n",
    "#' @return the standard error of x as a numeric vector of length one\n",
    "#' @examples\n",
    "#' sterror(mtcars$hp)\n",
    "sterror <- function(x) {\n",
    "  sd(x, na.rm = TRUE) / sqrt(length(x))\n",
    "}\n",
    "\n",
    "test_sterror <- function(){\n",
    "  test_that(\"sterror should return 0 if vector values are all the same\", {\n",
    "    expect_equal(sterror(c(1, 1, 1)), 0)\n",
    "  })\n",
    "}\n",
    "\n",
    "test_sterror()\n",
    "\n",
    "main(opt$file_path, opt$var)\n",
    "```"
   ]
  },
  {
   "cell_type": "markdown",
   "metadata": {},
   "source": [
    "Finally, let's make our script VERY flexible, and let is also specify the summary stat we are interested in:\n",
    "\n",
    "```\n",
    "# author: Tiffany Timbers\n",
    "# date: 2020-01-15\n",
    "\n",
    "\"This script calculates a specified summary stat for a specified \n",
    "variable from a .csv file. This script takes a filename, \n",
    "a summary stat and a column name as the arguments.\n",
    "\n",
    "Usage: quick_csv_stat.R <file_path> <statistic> <var>\n",
    "\" -> doc\n",
    "\n",
    "library(tidyverse)\n",
    "library(testthat)\n",
    "library(docopt)\n",
    "\n",
    "opt <- docopt(doc)\n",
    "\n",
    "main <- function(file_path, statistic, var){\n",
    "  \n",
    "  # read in data\n",
    "  data <- read.csv(file_path)\n",
    "  \n",
    "  # print out appropriate statistic based on command line args\n",
    "  if (statistic == 'mean'){\n",
    "    out <- data %>% \n",
    "      select(!!var) %>% \n",
    "      pull() %>% \n",
    "      mean(na.rm = TRUE)\n",
    "    print(out)\n",
    "  } else if (statistic == 'median'){\n",
    "    out <- data %>% \n",
    "      select(!!var) %>% \n",
    "      pull() %>% \n",
    "      median(na.rm = TRUE)\n",
    "    print(out)\n",
    "  } else if (statistic == 'sd'){\n",
    "    out <- data %>% \n",
    "      select(!!var) %>% \n",
    "      pull() %>% \n",
    "      sd(na.rm = TRUE)\n",
    "    print(out)\n",
    "  } else if (statistic == 'se'){\n",
    "    out <- data %>% \n",
    "      select(!!var) %>% \n",
    "      pull() %>% \n",
    "      sterror(na.rm = TRUE)\n",
    "    print(out)\n",
    "  } else {\n",
    "    print(\"You should provide an argument for what statistic to get (e.g., mean, median, sd or se)\")\n",
    "  }\n",
    "}\n",
    "\n",
    "#' calculate standard error\n",
    "#'\n",
    "#' @param x a vector of numeric values\n",
    "#' @return the standard error of x as a numeric vector of length one\n",
    "#' @examples\n",
    "#' sterror(mtcars$hp)\n",
    "sterror <- function(x) {\n",
    "  sd(x, na.rm = TRUE) / sqrt(length(x))\n",
    "}\n",
    "\n",
    "test_sterror <- function(){\n",
    "  test_that(\"sterror should return 0 if vector values are all the same\", {\n",
    "    expect_equal(sterror(c(1, 1, 1)), 0)\n",
    "  })\n",
    "}\n",
    "\n",
    "test_sterror()\n",
    "\n",
    "main(opt$file_path, opt$statistic, opt$var)\n",
    "```"
   ]
  },
  {
   "cell_type": "markdown",
   "metadata": {
    "slideshow": {
     "slide_type": "slide"
    }
   },
   "source": [
    "## Possitional arguments vs options\n",
    "\n",
    "In the examples above, we used `docopt` to specify positional arguments. This means that the order matters! If we change the order of the values of the arguments at the command line, our script will likely throw an error, because it will try to perform the wrong operations on the wrong values. \n",
    "\n",
    "Another downside to positional arguments, is that without good documentation, they can be less readable. And certainly the call to the script to is less readable. We can instead give the arguments names using `--ARGUMENT_NAME` syntax. We call these \"options\". Below is the same script but specified using options as opposed to positional arguments:\n",
    "\n",
    "```\n",
    "# author: Tiffany Timbers\n",
    "# date: 2020-01-15\n",
    "\n",
    "\"This script calculates a specified summary stat for a specified \n",
    "variable from a .csv file. This script takes a filename, \n",
    "a summary stat and a column name as the arguments.\n",
    "\n",
    "Usage: quick_csv_stat.R --file_path=<file_path> --statistic=<statistic> --var=<var>\n",
    "\" -> doc\n",
    "\n",
    "library(tidyverse)\n",
    "library(testthat)\n",
    "library(docopt)\n",
    "\n",
    "opt <- docopt(doc)\n",
    "\n",
    "main <- function(file_path, statistic, var){\n",
    "\n",
    "  # read in data\n",
    "  data <- read.csv(file_path)\n",
    "\n",
    "  # print out appropriate statistic based on command line args\n",
    "  if (statistic == 'mean'){\n",
    "    out <- data %>% \n",
    "      select(!!var) %>% \n",
    "      pull() %>% \n",
    "      mean(na.rm = TRUE)\n",
    "    print(out)\n",
    "  } else if (statistic == 'median'){\n",
    "    out <- data %>% \n",
    "      select(!!var) %>% \n",
    "      pull() %>% \n",
    "      median(na.rm = TRUE)\n",
    "    print(out)\n",
    "  } else if (statistic == 'sd'){\n",
    "    out <- data %>% \n",
    "      select(!!var) %>% \n",
    "      pull() %>% \n",
    "      sd(na.rm = TRUE)\n",
    "    print(out)\n",
    "  } else if (statistic == 'se'){\n",
    "    out <- data %>% \n",
    "      select(!!var) %>% \n",
    "      pull() %>% \n",
    "      sterror(na.rm = TRUE)\n",
    "    print(out)\n",
    "  } else {\n",
    "    print(\"You should provide an argument for what statistic to get (e.g., mean, median, sd or se)\")\n",
    "  }\n",
    "}\n",
    "\n",
    "#' calculate standard error\n",
    "#'\n",
    "#' @param x a vector of numeric values\n",
    "#' @return the standard error of x as a numeric vector of length one\n",
    "#' @examples\n",
    "#' sterror(mtcars$hp)\n",
    "sterror <- function(x) {\n",
    "  sd(x, na.rm = TRUE) / sqrt(length(x))\n",
    "}\n",
    "\n",
    "test_sterror <- function(){\n",
    "  test_that(\"sterror should return 0 if vector values are all the same\", {\n",
    "    expect_equal(sterror(c(1, 1, 1)), 0)\n",
    "  })\n",
    "}\n",
    "\n",
    "test_sterror()\n",
    "\n",
    "main(opt$file_path, opt$statistic, opt$var)\n",
    "```"
   ]
  },
  {
   "cell_type": "markdown",
   "metadata": {},
   "source": [
    "And we would run a script like this that uses options like this: \n",
    "\n",
    "```\n",
    "Rscript src/quick_csv_stat.R --file_path=data/titanic.csv --statistic=mean --var=fare\n",
    "```\n",
    "\n",
    "or like this: \n",
    "\n",
    "```\n",
    "Rscript src/quick_csv_stat.R --var=fare --statistic=mean --file_path=data/titanic.csv\n",
    "```\n",
    "\n",
    "because we gave the arguments names, and thus their position no longer matters!"
   ]
  },
  {
   "cell_type": "markdown",
   "metadata": {},
   "source": [
    "## Optional elements (arguments or options)\n",
    "\n",
    "If you would like an argument or option to be \"optional\" (i.e., not required!) enclose them with the square brackets \"[ ]\"  in the documentation."
   ]
  },
  {
   "cell_type": "markdown",
   "metadata": {
    "slideshow": {
     "slide_type": "slide"
    }
   },
   "source": [
    "## Challenge activity 1 - getting documentation from a `docopt script`\n",
    "\n",
    "In this repo, in the `src` directory, you will find a script named `demo.R`. Access the documentation for that script from the command line by running the script with the `--help` option (and no other options or arguments). Try running the `quick_csv_stat.R` with the `--help` option. What is the difference? "
   ]
  },
  {
   "cell_type": "markdown",
   "metadata": {
    "slideshow": {
     "slide_type": "slide"
    }
   },
   "source": [
    "## Challenge activity 2 - what does `docopt` return in R?\n",
    "\n",
    "Run the `demo.R` script giving it appropriate arguments to see what the `docopt` function in R returns. Try setting and not setting a value for `arg3`.\n",
    "\n",
    "For options, you need to include the `--` in the command line call, for example:\n",
    "```\n",
    "Rscript src/my_script something --anoption=something more\n",
    "```"
   ]
  },
  {
   "cell_type": "markdown",
   "metadata": {
    "slideshow": {
     "slide_type": "slide"
    }
   },
   "source": [
    "## Challenge activity 3 - break this script!\n",
    "\n",
    "Run the `demo.R` script and find at least 3 different ways to break it by changing the values or order of the command line arguments at the command line (do not modify the script)."
   ]
  },
  {
   "cell_type": "markdown",
   "metadata": {},
   "source": [
    "## Challenge activity 4 - add a new optional positional argument\n",
    "\n",
    "Modify the `demo.R` script to add a new positional argument that is optional. Also modify the script so that it prints out the value for this new argument in addition to the entire `docopt` object and `docopt` object type. "
   ]
  },
  {
   "cell_type": "markdown",
   "metadata": {},
   "source": [
    "## Challenge activity 5 - add a main function\n",
    "\n",
    "Modify the `demo.R` script so that the three print statements happen inside a main function. "
   ]
  },
  {
   "cell_type": "markdown",
   "metadata": {},
   "source": [
    "# Scripts in Python\n",
    "\n",
    "Reminder of what they typically look like:\n",
    "\n",
    "```\n",
    "# documentation comments\n",
    "\n",
    "# import libraries/packages\n",
    "\n",
    "# parse/define command line arguments here\n",
    "\n",
    "# define main function\n",
    "def main():\n",
    "    # code for \"guts\" of script goes here\n",
    "\n",
    "# code for other functions & tests goes here\n",
    "\n",
    "# call main function\n",
    "if __name__ == \"__main__\":\n",
    "    main()\n",
    "```"
   ]
  },
  {
   "cell_type": "markdown",
   "metadata": {
    "slideshow": {
     "slide_type": "slide"
    }
   },
   "source": [
    "## Where to develop scripts in Python\n",
    "\n",
    "#### In a integrated development environment (IDE):\n",
    "\n",
    "Or use an IDE, such as:\n",
    "- RStudio (gasp! 😱) via [`reticulate`](https://rstudio.github.io/reticulate/)\n",
    "- VS Code\n",
    "- [Spyder](https://www.spyder-ide.org/) (I think this comes with Anaconda, so you should have it installed)\n",
    "- Atom text editor + [`hydrogen`](https://atom.io/packages/hydrogen) (highly recommended by Mike Yuan, an MDS Alumni)\n",
    "- [PyCharm](https://www.jetbrains.com/pycharm/)\n",
    "\n",
    "#### In a Jupyter notebook:\n",
    "\n",
    "Jupyter + [`nbconvert`](https://nbconvert.readthedocs.io/en/latest/) (install via `conda install nbconvert`):\n",
    "\n",
    "Convert a notebook to a script at the command line via:\n",
    "```jupyter nbconvert --to script <input notebook>```\n",
    "\n",
    "#### TLDR;\n",
    "\n",
    "I recommend using an IDE over Jupyter. True, you may want to abstract code the originally was developed in a Jupyter notebook, but as soon as you switch the filename from `.ipynb` to `.py` you should change developing environments."
   ]
  },
  {
   "cell_type": "markdown",
   "metadata": {
    "slideshow": {
     "slide_type": "slide"
    }
   },
   "source": [
    "## Command line arguments in Python explained\n",
    "\n",
    "`docopt` was originally written in and for Python! There are other packages you can use, but `docopt` is extremely elegant and powerful. I've used `sys` and `argparse` previously, and now that I've tried `docopt`, there's no turning back for me. Key features I like are:\n",
    "- writing the code for the command line arguments in docopt forces you to write the documentation (because it parses the documentation!)\n",
    "- it gives you the command line arguments as simple dictionary\n",
    "- you have to write very few lines of code to parse a complicated command line input\n",
    "- it provides a consistent framework between R and Python"
   ]
  },
  {
   "cell_type": "markdown",
   "metadata": {},
   "source": [
    "Here we rewrite the script above in Python using `docopt`:\n",
    "\n",
    "\n",
    "```\n",
    "# author: Tiffany Timbers\n",
    "# date: 2020-01-15\n",
    "\n",
    "'''This script calculates a specified summary stat for a specified\n",
    "variable from a .csv file. This script takes a filename,\n",
    "a summary stat and a column name as the arguments.\n",
    "\n",
    "Usage: quick_csv_stat.py --file_path=<file_path> --statistic=<statistic> --var=<var>\n",
    "\n",
    "Options:\n",
    "--file_path=<file_path>  Path (including filename) to the csv file.\n",
    "--statistic=<statistic>  Statistic to calculate for a given column (options include mean, median, sd and se)\n",
    "--var=<var>              Column on which to calculate the statistic \n",
    "'''\n",
    "\n",
    "import pandas as pd\n",
    "import numpy as np\n",
    "from docopt import docopt\n",
    "\n",
    "opt = docopt(__doc__)\n",
    "\n",
    "def main(file_path, statistic, var):\n",
    "  # read in data\n",
    "  data = pd.read_csv(file_path)\n",
    "\n",
    "  # print out appropriate statistic based on command line args\n",
    "  if statistic == \"mean\":\n",
    "    out = data[var].mean()\n",
    "    print(out)\n",
    "  elif statistic == 'median':\n",
    "    out = data[var].median()\n",
    "    print(out)\n",
    "  elif statistic == 'sd':\n",
    "    out = data[var].std()\n",
    "    print(out)\n",
    "  elif statistic == 'se':\n",
    "    out = sterror(data[var])\n",
    "    print(out)\n",
    "  else:\n",
    "    print(\"You should provide an argument for what statistic to get (e.g., mean, median, sd or se)\")\n",
    "\n",
    "# standard error function\n",
    "\n",
    "def sterror(x):\n",
    "  \"\"\"\n",
    "  calculate standard error\n",
    "    \n",
    "  Parameters\n",
    "  ----------\n",
    "  numpy.ndarray : x\n",
    "    A numpy array of numeric values.\n",
    "        \n",
    "  Returns\n",
    "  -------\n",
    "  se\n",
    "    The standard error of x. \n",
    "        \n",
    "  Examples\n",
    "  --------\n",
    "  >>> sterror(numpy.array([2, 2, 2]))\n",
    "  0\n",
    "  \"\"\"\n",
    "  se = x.std()/np.sqrt(x.size)\n",
    "  return se\n",
    "  \n",
    "def test_sterror():\n",
    "  assert sterror(np.array([1, 1, 1])) == 0, \"sterror should return 0 if vector values are all the same\"\n",
    "\n",
    "test_sterror()\n",
    "  \n",
    "if __name__ == \"__main__\":\n",
    "    main(opt[\"--file_path\"], opt[\"--statistic\"], opt[\"--var\"])\n",
    "```"
   ]
  },
  {
   "cell_type": "markdown",
   "metadata": {
    "slideshow": {
     "slide_type": "slide"
    }
   },
   "source": [
    "## Challenge activity 6 - what does `docopt` return in Python?\n",
    "\n",
    "Run the `demo.py` script giving it appropriate arguments to see what the `docopt` function in Python returns. Try setting and not setting a value for `arg3`. How does this differ from what `docopt` returns in R?"
   ]
  },
  {
   "cell_type": "markdown",
   "metadata": {},
   "source": [
    "## Challenge activity 7 - add a new optional positional argument\n",
    "\n",
    "Modify the `demo.py` script to add a new positional argument that is optional. Also modify the script so that it prints out the value for this new argument in addition to the entire `docopt` object and `docopt` object type. "
   ]
  },
  {
   "cell_type": "markdown",
   "metadata": {},
   "source": [
    "## Challenge activity 8 - add a main function\n",
    "\n",
    "Modify the `demo.py` script so that the three print statements happen inside a main function. "
   ]
  },
  {
   "cell_type": "markdown",
   "metadata": {
    "slideshow": {
     "slide_type": "slide"
    }
   },
   "source": [
    "## Group Discussion\n",
    "\n",
    "How do we write code for scripts that will have command line arguments? What are some good strategies?"
   ]
  },
  {
   "cell_type": "markdown",
   "metadata": {},
   "source": [
    "## Some tips for RStudio IDE:\n",
    "\n",
    "### For R scripts\n",
    "- To indent a block of text, highlight and use tab\n",
    "- To fix indenting in general to R code standards, use Command/Cntrl + I \n",
    "\n",
    "### In general:\n",
    "- To get multiple cursors, hold alt/option and highlight lines using cursor\n",
    "- To get multiple cursors to the beginning of the line, use control A\n",
    "- To get multiple cursors to the end of the line, use control E"
   ]
  },
  {
   "cell_type": "markdown",
   "metadata": {
    "slideshow": {
     "slide_type": "slide"
    }
   },
   "source": [
    "# What we covered:\n",
    "\n",
    "- When to work in a read-eval-print-loop (REPL) framework versus when to use scripts\n",
    "- Scripts in R\n",
    "- Scripts in Python\n",
    "- Command line arguments in R & Python"
   ]
  },
  {
   "cell_type": "markdown",
   "metadata": {},
   "source": [
    "## What's next?\n",
    "\n",
    "- running literate code documents interactively\n",
    "- more advanced R Markdown (figure and table formatting, citation)\n",
    "- flexible R Markdown reports with parameterization"
   ]
  }
 ],
 "metadata": {
  "anaconda-cloud": {},
  "celltoolbar": "Slideshow",
  "kernelspec": {
   "display_name": "Python 3",
   "language": "python",
   "name": "python3"
  },
  "language_info": {
   "codemirror_mode": {
    "name": "ipython",
    "version": 3
   },
   "file_extension": ".py",
   "mimetype": "text/x-python",
   "name": "python",
   "nbconvert_exporter": "python",
   "pygments_lexer": "ipython3",
   "version": "3.7.3"
  }
 },
 "nbformat": 4,
 "nbformat_minor": 1
}
