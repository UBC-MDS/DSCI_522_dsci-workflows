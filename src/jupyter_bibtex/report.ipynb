{
 "cells": [
  {
   "cell_type": "code",
   "execution_count": 1,
   "metadata": {
    "Collapsed": "false"
   },
   "outputs": [],
   "source": [
    "import pandas as pd\n",
    "import scipy\n",
    "import altair as alt\n",
    "import numpy as np"
   ]
  },
  {
   "cell_type": "code",
   "execution_count": 5,
   "metadata": {
    "Collapsed": "false"
   },
   "outputs": [],
   "source": [
    "# add code to add styled pandas dfs in the pdf\n",
    "pd.set_option(\"display.latex.longtable\", True) # this should help break long tables correctly\n",
    "#pd.set_option('display.notebook_repr_html', True)\n",
    "pd.set_option(\"display.latex.repr\", True)"
   ]
  },
  {
   "cell_type": "markdown",
   "metadata": {
    "Collapsed": "false"
   },
   "source": [
    "# Title of my report"
   ]
  },
  {
   "cell_type": "markdown",
   "metadata": {
    "Collapsed": "false"
   },
   "source": [
    "## Introduction\n",
    "\n",
    "I used the `pandas`<cite data-cite=\"pandas\"></cite>, the `scipy`<cite data-cite=\"scipy\"></cite>, and `altair`<cite data-cite=\"altair\"></cite>, `numpy`<cite data-cite=\"numpy\"></cite>  packages.\n",
    "\n",
    "Lorem ipsum dolor sit amet, consectetur adipiscing elit. Nulla vitae neque vel dui ultrices suscipit ut vel turpis. Curabitur faucibus, nisi eget finibus sollicitudin, erat ex eleifend tortor, dignissim blandit velit libero non magna. Mauris fermentum ipsum eget erat malesuada dapibus. Donec placerat tincidunt maximus. Vestibulum at hendrerit diam. Ut lacinia sodales magna a egestas. Cras risus eros, pharetra in quam vitae, tincidunt suscipit dui. Ut cursus vel nisi et sagittis. Curabitur sed turpis at massa ornare bibendum. Quisque eget volutpat ante, eu sagittis tortor. Integer est nunc, sodales vel fringilla eu, euismod vitae orci. Duis consectetur sit amet odio facilisis luctus.\n",
    "\n",
    "Nulla vestibulum accumsan ante at luctus. Duis ultrices nisl et nisi feugiat, dictum ullamcorper urna mollis. Nunc pretium facilisis justo. Nunc sed libero id mauris ultricies fermentum sit amet quis dolor. Praesent sed nisl urna. Duis a vehicula neque, a dictum lacus. Nulla ac dignissim massa, a ornare sapien. Phasellus sollicitudin elit id quam consequat aliquet. Nunc pretium est at tellus maximus, quis porttitor tortor vulputate.\n",
    "\n",
    "Duis malesuada imperdiet erat eget condimentum. Nullam vel libero lacinia, dapibus arcu venenatis, varius elit. Nunc vestibulum, turpis at hendrerit elementum, ligula urna cursus nibh, eu mollis neque tortor a dui. Vivamus pretium est quis elit fringilla, eget vestibulum magna accumsan. Nullam eget urna vitae nunc faucibus sodales. Nam consequat ut tellus fermentum venenatis. Etiam ornare ligula id aliquet consectetur. Etiam quis mauris ut leo tempus finibus a eu magna. Ut sagittis ante sit amet augue lacinia, quis dapibus orci suscipit. Duis fringilla sapien et ligula congue tempor.\n",
    "\n",
    "Orci varius natoque penatibus et magnis dis parturient montes, nascetur ridiculus mus. Aenean ac iaculis neque. Cras dignissim blandit lacus eu laoreet. Proin eu porttitor purus, non commodo risus. Sed ornare accumsan ex. Aliquam volutpat maximus tempus. Vivamus sed vehicula lacus. Fusce vulputate tempus pharetra. Morbi vulputate ante dui, aliquam ultrices turpis pretium quis. Suspendisse tempor ac felis eu tincidunt. Nulla turpis quam, gravida efficitur arcu sit amet, porta rutrum augue. Nullam eget consectetur turpis. Etiam ut leo a arcu tempor porta non at lacus.\n",
    "\n",
    "Integer id nisl a erat fringilla tincidunt eu condimentum arcu. Fusce volutpat, urna in condimentum pharetra, dolor lorem sollicitudin sapien, vitae blandit neque lorem maximus ligula. Duis cursus, risus id efficitur sagittis, sapien mauris tristique nisl, ut tempor lacus diam a purus. Sed purus enim, tempus mattis iaculis tristique, suscipit et massa. Cras non augue sagittis, bibendum sem sed, porta leo. Pellentesque varius rutrum ex, eu ullamcorper ante dapibus eu. Quisque sit amet vestibulum metus. Integer vulputate tincidunt quam, nec consequat quam congue vitae."
   ]
  },
  {
   "cell_type": "markdown",
   "metadata": {
    "Collapsed": "false"
   },
   "source": [
    "### Motivation\n",
    "\n",
    "The `altair`<cite data-cite=\"scipy\"></cite> package is just amazing. Orci varius natoque penatibus et magnis dis parturient montes, nascetur ridiculus mus. Aenean ac iaculis neque. Cras dignissim blandit lacus eu laoreet. Proin eu porttitor purus, non commodo risus. Sed ornare accumsan ex. Aliquam volutpat maximus tempus. Vivamus sed vehicula lacus. Fusce vulputate tempus pharetra. Morbi vulputate ante dui, aliquam ultrices turpis pretium quis. Suspendisse tempor ac felis eu tincidunt. Nulla turpis quam, gravida efficitur arcu sit amet, porta rutrum augue. Nullam eget consectetur turpis. Etiam ut leo a arcu tempor porta non at lacus. The `scipy`<cite data-cite=\"scipy\"></cite> package is actually also really cool."
   ]
  },
  {
   "cell_type": "markdown",
   "metadata": {
    "Collapsed": "false"
   },
   "source": [
    "## Methods\n",
    "\n",
    "Duis malesuada imperdiet erat eget condimentum. Nullam vel libero lacinia, dapibus arcu venenatis, varius elit. Nunc vestibulum, turpis at hendrerit elementum, ligula urna cursus nibh, eu mollis neque tortor a dui. Vivamus pretium est quis elit fringilla, eget vestibulum magna accumsan. Nullam eget urna vitae nunc faucibus sodales. Nam consequat ut tellus fermentum venenatis. Etiam ornare ligula id aliquet consectetur. Etiam quis mauris ut leo tempus finibus a eu magna. Ut sagittis ante sit amet augue lacinia, quis dapibus orci suscipit. Duis fringilla sapien et ligula congue tempor."
   ]
  },
  {
   "cell_type": "code",
   "execution_count": 3,
   "metadata": {
    "Collapsed": "false"
   },
   "outputs": [
    {
     "data": {
      "text/html": [
       "<div>\n",
       "<style scoped>\n",
       "    .dataframe tbody tr th:only-of-type {\n",
       "        vertical-align: middle;\n",
       "    }\n",
       "\n",
       "    .dataframe tbody tr th {\n",
       "        vertical-align: top;\n",
       "    }\n",
       "\n",
       "    .dataframe thead th {\n",
       "        text-align: right;\n",
       "    }\n",
       "</style>\n",
       "<table border=\"1\" class=\"dataframe\">\n",
       "  <thead>\n",
       "    <tr style=\"text-align: right;\">\n",
       "      <th></th>\n",
       "      <th>Age</th>\n",
       "    </tr>\n",
       "  </thead>\n",
       "  <tbody>\n",
       "    <tr>\n",
       "      <th>0</th>\n",
       "      <td>0.42</td>\n",
       "    </tr>\n",
       "    <tr>\n",
       "      <th>1</th>\n",
       "      <td>0.67</td>\n",
       "    </tr>\n",
       "    <tr>\n",
       "      <th>2</th>\n",
       "      <td>0.75</td>\n",
       "    </tr>\n",
       "    <tr>\n",
       "      <th>3</th>\n",
       "      <td>0.83</td>\n",
       "    </tr>\n",
       "    <tr>\n",
       "      <th>4</th>\n",
       "      <td>0.92</td>\n",
       "    </tr>\n",
       "    <tr>\n",
       "      <th>5</th>\n",
       "      <td>1.00</td>\n",
       "    </tr>\n",
       "    <tr>\n",
       "      <th>6</th>\n",
       "      <td>2.00</td>\n",
       "    </tr>\n",
       "    <tr>\n",
       "      <th>7</th>\n",
       "      <td>3.00</td>\n",
       "    </tr>\n",
       "    <tr>\n",
       "      <th>8</th>\n",
       "      <td>4.00</td>\n",
       "    </tr>\n",
       "    <tr>\n",
       "      <th>9</th>\n",
       "      <td>5.00</td>\n",
       "    </tr>\n",
       "    <tr>\n",
       "      <th>10</th>\n",
       "      <td>6.00</td>\n",
       "    </tr>\n",
       "  </tbody>\n",
       "</table>\n",
       "</div>"
      ],
      "text/latex": [
       "\\centering{\\begin{longtable}{lr}\n",
       "\\toprule\n",
       "{} &   Age \\\\\n",
       "\\midrule\n",
       "\\endhead\n",
       "\\midrule\n",
       "\\multicolumn{2}{r}{{Continued on next page}} \\\\\n",
       "\\midrule\n",
       "\\endfoot\n",
       "\n",
       "\\bottomrule\n",
       "\\endlastfoot\n",
       "0  &  0.42 \\\\\n",
       "1  &  0.67 \\\\\n",
       "2  &  0.75 \\\\\n",
       "3  &  0.83 \\\\\n",
       "4  &  0.92 \\\\\n",
       "5  &  1.00 \\\\\n",
       "6  &  2.00 \\\\\n",
       "7  &  3.00 \\\\\n",
       "8  &  4.00 \\\\\n",
       "9  &  5.00 \\\\\n",
       "10 &  6.00 \\\\\n",
       "\\end{longtable}\n",
       "}"
      ],
      "text/plain": [
       "     Age\n",
       "0   0.42\n",
       "1   0.67\n",
       "2   0.75\n",
       "3   0.83\n",
       "4   0.92\n",
       "5   1.00\n",
       "6   2.00\n",
       "7   3.00\n",
       "8   4.00\n",
       "9   5.00\n",
       "10  6.00"
      ]
     },
     "execution_count": 3,
     "metadata": {},
     "output_type": "execute_result"
    }
   ],
   "source": [
    "df = pd.read_csv('https://raw.githubusercontent.com/datasciencedojo/datasets/master/titanic.csv')\n",
    "\n",
    "agedf = df.groupby(['Age']).count().reset_index()[['Age']]\n",
    "\n",
    "agedf.loc[:10]"
   ]
  },
  {
   "cell_type": "code",
   "execution_count": 4,
   "metadata": {
    "Collapsed": "false"
   },
   "outputs": [
    {
     "data": {
      "text/html": [
       "<style  type=\"text/css\" >\n",
       "    #T_9d80c0ec_3f4a_11ea_b9be_faffc20012darow0_col0 {\n",
       "            background-color:  #f7fcf5;\n",
       "            color:  #000000;\n",
       "        }    #T_9d80c0ec_3f4a_11ea_b9be_faffc20012darow1_col0 {\n",
       "            background-color:  #f1faee;\n",
       "            color:  #000000;\n",
       "        }    #T_9d80c0ec_3f4a_11ea_b9be_faffc20012darow2_col0 {\n",
       "            background-color:  #eff9eb;\n",
       "            color:  #000000;\n",
       "        }    #T_9d80c0ec_3f4a_11ea_b9be_faffc20012darow3_col0 {\n",
       "            background-color:  #edf8e9;\n",
       "            color:  #000000;\n",
       "        }    #T_9d80c0ec_3f4a_11ea_b9be_faffc20012darow4_col0 {\n",
       "            background-color:  #ebf7e7;\n",
       "            color:  #000000;\n",
       "        }    #T_9d80c0ec_3f4a_11ea_b9be_faffc20012darow5_col0 {\n",
       "            background-color:  #e8f6e4;\n",
       "            color:  #000000;\n",
       "        }    #T_9d80c0ec_3f4a_11ea_b9be_faffc20012darow6_col0 {\n",
       "            background-color:  #bde5b6;\n",
       "            color:  #000000;\n",
       "        }    #T_9d80c0ec_3f4a_11ea_b9be_faffc20012darow7_col0 {\n",
       "            background-color:  #81ca81;\n",
       "            color:  #000000;\n",
       "        }    #T_9d80c0ec_3f4a_11ea_b9be_faffc20012darow8_col0 {\n",
       "            background-color:  #3da65a;\n",
       "            color:  #000000;\n",
       "        }    #T_9d80c0ec_3f4a_11ea_b9be_faffc20012darow9_col0 {\n",
       "            background-color:  #0e7936;\n",
       "            color:  #f1f1f1;\n",
       "        }    #T_9d80c0ec_3f4a_11ea_b9be_faffc20012darow10_col0 {\n",
       "            background-color:  #00441b;\n",
       "            color:  #f1f1f1;\n",
       "        }</style><table id=\"T_9d80c0ec_3f4a_11ea_b9be_faffc20012da\" ><thead>    <tr>        <th class=\"blank level0\" ></th>        <th class=\"col_heading level0 col0\" >Age</th>    </tr></thead><tbody>\n",
       "                <tr>\n",
       "                        <th id=\"T_9d80c0ec_3f4a_11ea_b9be_faffc20012dalevel0_row0\" class=\"row_heading level0 row0\" >0</th>\n",
       "                        <td id=\"T_9d80c0ec_3f4a_11ea_b9be_faffc20012darow0_col0\" class=\"data row0 col0\" >0.42</td>\n",
       "            </tr>\n",
       "            <tr>\n",
       "                        <th id=\"T_9d80c0ec_3f4a_11ea_b9be_faffc20012dalevel0_row1\" class=\"row_heading level0 row1\" >1</th>\n",
       "                        <td id=\"T_9d80c0ec_3f4a_11ea_b9be_faffc20012darow1_col0\" class=\"data row1 col0\" >0.67</td>\n",
       "            </tr>\n",
       "            <tr>\n",
       "                        <th id=\"T_9d80c0ec_3f4a_11ea_b9be_faffc20012dalevel0_row2\" class=\"row_heading level0 row2\" >2</th>\n",
       "                        <td id=\"T_9d80c0ec_3f4a_11ea_b9be_faffc20012darow2_col0\" class=\"data row2 col0\" >0.75</td>\n",
       "            </tr>\n",
       "            <tr>\n",
       "                        <th id=\"T_9d80c0ec_3f4a_11ea_b9be_faffc20012dalevel0_row3\" class=\"row_heading level0 row3\" >3</th>\n",
       "                        <td id=\"T_9d80c0ec_3f4a_11ea_b9be_faffc20012darow3_col0\" class=\"data row3 col0\" >0.83</td>\n",
       "            </tr>\n",
       "            <tr>\n",
       "                        <th id=\"T_9d80c0ec_3f4a_11ea_b9be_faffc20012dalevel0_row4\" class=\"row_heading level0 row4\" >4</th>\n",
       "                        <td id=\"T_9d80c0ec_3f4a_11ea_b9be_faffc20012darow4_col0\" class=\"data row4 col0\" >0.92</td>\n",
       "            </tr>\n",
       "            <tr>\n",
       "                        <th id=\"T_9d80c0ec_3f4a_11ea_b9be_faffc20012dalevel0_row5\" class=\"row_heading level0 row5\" >5</th>\n",
       "                        <td id=\"T_9d80c0ec_3f4a_11ea_b9be_faffc20012darow5_col0\" class=\"data row5 col0\" >1</td>\n",
       "            </tr>\n",
       "            <tr>\n",
       "                        <th id=\"T_9d80c0ec_3f4a_11ea_b9be_faffc20012dalevel0_row6\" class=\"row_heading level0 row6\" >6</th>\n",
       "                        <td id=\"T_9d80c0ec_3f4a_11ea_b9be_faffc20012darow6_col0\" class=\"data row6 col0\" >2</td>\n",
       "            </tr>\n",
       "            <tr>\n",
       "                        <th id=\"T_9d80c0ec_3f4a_11ea_b9be_faffc20012dalevel0_row7\" class=\"row_heading level0 row7\" >7</th>\n",
       "                        <td id=\"T_9d80c0ec_3f4a_11ea_b9be_faffc20012darow7_col0\" class=\"data row7 col0\" >3</td>\n",
       "            </tr>\n",
       "            <tr>\n",
       "                        <th id=\"T_9d80c0ec_3f4a_11ea_b9be_faffc20012dalevel0_row8\" class=\"row_heading level0 row8\" >8</th>\n",
       "                        <td id=\"T_9d80c0ec_3f4a_11ea_b9be_faffc20012darow8_col0\" class=\"data row8 col0\" >4</td>\n",
       "            </tr>\n",
       "            <tr>\n",
       "                        <th id=\"T_9d80c0ec_3f4a_11ea_b9be_faffc20012dalevel0_row9\" class=\"row_heading level0 row9\" >9</th>\n",
       "                        <td id=\"T_9d80c0ec_3f4a_11ea_b9be_faffc20012darow9_col0\" class=\"data row9 col0\" >5</td>\n",
       "            </tr>\n",
       "            <tr>\n",
       "                        <th id=\"T_9d80c0ec_3f4a_11ea_b9be_faffc20012dalevel0_row10\" class=\"row_heading level0 row10\" >10</th>\n",
       "                        <td id=\"T_9d80c0ec_3f4a_11ea_b9be_faffc20012darow10_col0\" class=\"data row10 col0\" >6</td>\n",
       "            </tr>\n",
       "    </tbody></table>"
      ],
      "text/plain": [
       "<pandas.io.formats.style.Styler at 0x1232f5910>"
      ]
     },
     "execution_count": 4,
     "metadata": {},
     "output_type": "execute_result"
    }
   ],
   "source": [
    "# here's a sample df that is styled. See https://pandas.pydata.org/pandas-docs/stable/user_guide/style.html for details \n",
    "\n",
    "agedf.loc[:10].style.background_gradient(cmap='Greens')\n",
    "\n",
    "## FYI: Still troubleshooting why this doesn't show up in the final PDF."
   ]
  }
 ],
 "metadata": {
  "kernelspec": {
   "display_name": "Python 3",
   "language": "python",
   "name": "python3"
  },
  "language_info": {
   "codemirror_mode": {
    "name": "ipython",
    "version": 3
   },
   "file_extension": ".py",
   "mimetype": "text/x-python",
   "name": "python",
   "nbconvert_exporter": "python",
   "pygments_lexer": "ipython3",
   "version": "3.7.6"
  }
 },
 "nbformat": 4,
 "nbformat_minor": 4
}
